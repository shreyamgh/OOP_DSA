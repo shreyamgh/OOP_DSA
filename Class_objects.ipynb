{
 "cells": [
  {
   "cell_type": "code",
   "execution_count": 1,
   "id": "eb91971c",
   "metadata": {},
   "outputs": [
    {
     "name": "stdout",
     "output_type": "stream",
     "text": [
      "hello world\n"
     ]
    }
   ],
   "source": [
    "print(\"hello world\")"
   ]
  },
  {
   "cell_type": "code",
   "execution_count": 11,
   "id": "4ac071ce",
   "metadata": {},
   "outputs": [
    {
     "name": "stdout",
     "output_type": "stream",
     "text": [
      "enter frist number5\n",
      "enter second number8\n",
      "product= 40\n"
     ]
    }
   ],
   "source": [
    "#Creating a class\n",
    "class calculator:\n",
    "    a = 1\n",
    "    b = 2\n",
    "    def __init__ (self, num1, num2):\n",
    "        self.a = num1\n",
    "        self.b = num2\n",
    "        \n",
    "    def add(self):\n",
    "        temp = input(self.a+self.b)\n",
    "        print(\"sum =\", temp)\n",
    "        \n",
    "    def sub(self):\n",
    "        temp = input(self.a-self.b)\n",
    "        print(\"substraction=\", temp)\n",
    "        \n",
    "    def pod(self):\n",
    "        #num1 = input(\"enter first number\")\n",
    "        #num2 = input(\"enter second number\")\n",
    "        temp = (self.a*self.b)\n",
    "        print(\"product=\", temp)\n",
    "\n",
    "var1 = int(input(\"enter frist number\"))\n",
    "var2 = int(input(\"enter second number\"))\n",
    "addOneTwo = calculator(var1,var2)\n",
    "\n",
    "#print(addOneTwo)\n",
    "addOneTwo.pod()\n",
    "    \n",
    "        \n",
    "        \n",
    "        \n",
    "        \n",
    "    \n",
    "        "
   ]
  },
  {
   "cell_type": "code",
   "execution_count": null,
   "id": "8af00d43",
   "metadata": {},
   "outputs": [],
   "source": []
  },
  {
   "cell_type": "code",
   "execution_count": null,
   "id": "fd2795f5",
   "metadata": {},
   "outputs": [],
   "source": []
  }
 ],
 "metadata": {
  "kernelspec": {
   "display_name": "Python 3",
   "language": "python",
   "name": "python3"
  },
  "language_info": {
   "codemirror_mode": {
    "name": "ipython",
    "version": 3
   },
   "file_extension": ".py",
   "mimetype": "text/x-python",
   "name": "python",
   "nbconvert_exporter": "python",
   "pygments_lexer": "ipython3",
   "version": "3.8.8"
  }
 },
 "nbformat": 4,
 "nbformat_minor": 5
}
